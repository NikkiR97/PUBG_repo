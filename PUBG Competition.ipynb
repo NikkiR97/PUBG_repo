{
 "cells": [
  {
   "cell_type": "code",
   "execution_count": 190,
   "metadata": {},
   "outputs": [],
   "source": [
    "import pandas as pd\n",
    "import numpy as np\n",
    "from sklearn.tree import DecisionTreeClassifier \n",
    "import matplotlib.pyplot as plt\n",
    "from sklearn import linear_model\n",
    "from sklearn.model_selection import train_test_split \n",
    "\n",
    "#https://stackoverflow.com/questions/41925157/logisticregression-unknown-label-type-continuous-using-sklearn-in-python\n",
    "from sklearn import preprocessing \n",
    "lab_enc = preprocessing.LabelEncoder()\n",
    "#cannot pass floats to classifiers (e.g. DecisionTree) that expects cateforical values as target\n",
    "#Convert target winPlacePerc by using scikit's LabelEncoder()\n",
    "\n",
    "train = pd.read_csv('../../data sets/pubg/train_V2.csv')\n",
    "train = train.dropna()\n",
    "#train"
   ]
  },
  {
   "cell_type": "code",
   "execution_count": 191,
   "metadata": {},
   "outputs": [],
   "source": [
    "test = pd.read_csv('../../data sets/pubg/test_V2.csv')\n",
    "#test\n",
    "#test"
   ]
  },
  {
   "cell_type": "code",
   "execution_count": 192,
   "metadata": {},
   "outputs": [
    {
     "data": {
      "text/plain": [
       "Id                 4446965\n",
       "groupId            4446965\n",
       "matchId            4446965\n",
       "assists            4446965\n",
       "boosts             4446965\n",
       "damageDealt        4446965\n",
       "DBNOs              4446965\n",
       "headshotKills      4446965\n",
       "heals              4446965\n",
       "killPlace          4446965\n",
       "killPoints         4446965\n",
       "kills              4446965\n",
       "killStreaks        4446965\n",
       "longestKill        4446965\n",
       "matchDuration      4446965\n",
       "matchType          4446965\n",
       "maxPlace           4446965\n",
       "numGroups          4446965\n",
       "rankPoints         4446965\n",
       "revives            4446965\n",
       "rideDistance       4446965\n",
       "roadKills          4446965\n",
       "swimDistance       4446965\n",
       "teamKills          4446965\n",
       "vehicleDestroys    4446965\n",
       "walkDistance       4446965\n",
       "weaponsAcquired    4446965\n",
       "winPoints          4446965\n",
       "winPlacePerc       4446965\n",
       "dtype: int64"
      ]
     },
     "execution_count": 192,
     "metadata": {},
     "output_type": "execute_result"
    }
   ],
   "source": [
    "train.count()"
   ]
  },
  {
   "cell_type": "code",
   "execution_count": 193,
   "metadata": {},
   "outputs": [
    {
     "data": {
      "text/plain": [
       "Id                  object\n",
       "groupId             object\n",
       "matchId             object\n",
       "assists              int64\n",
       "boosts               int64\n",
       "damageDealt        float64\n",
       "DBNOs                int64\n",
       "headshotKills        int64\n",
       "heals                int64\n",
       "killPlace            int64\n",
       "killPoints           int64\n",
       "kills                int64\n",
       "killStreaks          int64\n",
       "longestKill        float64\n",
       "matchDuration        int64\n",
       "matchType           object\n",
       "maxPlace             int64\n",
       "numGroups            int64\n",
       "rankPoints           int64\n",
       "revives              int64\n",
       "rideDistance       float64\n",
       "roadKills            int64\n",
       "swimDistance       float64\n",
       "teamKills            int64\n",
       "vehicleDestroys      int64\n",
       "walkDistance       float64\n",
       "weaponsAcquired      int64\n",
       "winPoints            int64\n",
       "winPlacePerc       float64\n",
       "dtype: object"
      ]
     },
     "execution_count": 193,
     "metadata": {},
     "output_type": "execute_result"
    }
   ],
   "source": [
    "train.dtypes"
   ]
  },
  {
   "cell_type": "code",
   "execution_count": 241,
   "metadata": {},
   "outputs": [],
   "source": [
    "#data = train.iloc[:,3:28].drop('matchType', axis=1)\n",
    "# data = train.loc[:,'assists':'boosts'] #true infinite\n",
    "# target = train.loc[:,'assists'] #true infinite\n",
    "\n",
    "test_data = test.loc[:,['assists','boosts']]\n",
    "\n",
    "#4446965 \n",
    "data_clean = train.loc[:,['kills']] # true nan\n",
    "\n",
    "#drop killPoints based on plot\n",
    "# data = data[:-1800000]\n",
    "# data1 = data[-1700000:]\n",
    "# data_clean = data.append(data1)\n",
    "\n",
    "target = train.loc[:,['winPlacePerc']] # true nan\n",
    "# target = target[:-1800000]\n",
    "# target1 = target[-1700000:]\n",
    "# target_clean = target.append(target1)\n",
    "\n",
    "# encoded = lab_enc.fit_transform(target_clean.values.ravel())\n",
    "encoded = lab_enc.fit_transform(target.values.ravel())\n",
    "\n",
    "#target = target.values.astype(np.float)\n",
    "######\n",
    "\n",
    "#target.to_csv('target.csv')\n",
    "#target.dtypes\n",
    "#encoded.count()"
   ]
  },
  {
   "cell_type": "code",
   "execution_count": 242,
   "metadata": {},
   "outputs": [
    {
     "data": {
      "text/plain": [
       "DecisionTreeClassifier(class_weight=None, criterion='gini', max_depth=6,\n",
       "            max_features=None, max_leaf_nodes=None,\n",
       "            min_impurity_decrease=0.0, min_impurity_split=None,\n",
       "            min_samples_leaf=1, min_samples_split=2,\n",
       "            min_weight_fraction_leaf=0.0, presort=False, random_state=0,\n",
       "            splitter='best')"
      ]
     },
     "execution_count": 242,
     "metadata": {},
     "output_type": "execute_result"
    }
   ],
   "source": [
    "# split into training and test data\n",
    "# X_train, X_test, y_train, y_test = train_test_split(\n",
    "#     data_clean, encoded, stratify=encoded, random_state=0)\n",
    "y_train = target[:-3477572]\n",
    "y_test = target[-869394:]\n",
    "\n",
    "X_train =  data_clean[:-3477572]\n",
    "X_test = data_clean[-869394:]\n",
    "\n",
    "tree = DecisionTreeClassifier(random_state=0, max_depth=6)\n",
    "tree.fit(data_clean, encoded)\n",
    "#tree.fit(X_train, y_train)\n",
    "#X_train"
   ]
  },
  {
   "cell_type": "code",
   "execution_count": null,
   "metadata": {},
   "outputs": [
    {
     "name": "stdout",
     "output_type": "stream",
     "text": [
      "Coefficients: \n",
      " [[0.08266712]]\n",
      "Mean squared error: 0.08\n",
      "Variance score: 0.18\n"
     ]
    }
   ],
   "source": [
    "\n",
    "\n",
    "regr = linear_model.LinearRegression() #run ordinary least squares\n",
    "\n",
    "# Train the model using the training sets\n",
    "regr.fit(X_train, y_train) ##this is where \"learning\" happens!\n",
    "\n",
    "\n",
    "#output = tree.predict(test_predict)\n",
    "\n",
    "# The coefficients\n",
    "print('Coefficients: \\n', regr.coef_)\n",
    "# The mean squared error\n",
    "print(\"Mean squared error: %.2f\"\n",
    "      % np.mean((regr.predict(X_test) - y_test) ** 2))\n",
    "# Explained variance score: 1 is perfect prediction\n",
    "print('Variance score: %.2f' % regr.score(X_test, y_test))\n",
    "\n",
    "# Plot outputs\n",
    "plt.scatter(X_test, y_test,  color='black')\n",
    "plt.plot(X_test, regr.predict(X_test), color='blue',\n",
    "         linewidth=3)\n",
    "\n",
    "plt.xticks(())\n",
    "plt.yticks(())\n",
    "\n",
    "plt.show()"
   ]
  },
  {
   "cell_type": "code",
   "execution_count": 222,
   "metadata": {},
   "outputs": [
    {
     "data": {
      "text/plain": [
       "array([1333, 1918, 2326, ..., 1445, 2398, 1636], dtype=int64)"
      ]
     },
     "execution_count": 222,
     "metadata": {},
     "output_type": "execute_result"
    }
   ],
   "source": [
    "encoded"
   ]
  },
  {
   "cell_type": "code",
   "execution_count": null,
   "metadata": {},
   "outputs": [],
   "source": []
  },
  {
   "cell_type": "code",
   "execution_count": null,
   "metadata": {},
   "outputs": [],
   "source": []
  }
 ],
 "metadata": {
  "kernelspec": {
   "display_name": "Python 3",
   "language": "python",
   "name": "python3"
  },
  "language_info": {
   "codemirror_mode": {
    "name": "ipython",
    "version": 3
   },
   "file_extension": ".py",
   "mimetype": "text/x-python",
   "name": "python",
   "nbconvert_exporter": "python",
   "pygments_lexer": "ipython3",
   "version": "3.5.6"
  }
 },
 "nbformat": 4,
 "nbformat_minor": 2
}
